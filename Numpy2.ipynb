{
 "cells": [
  {
   "cell_type": "code",
   "execution_count": 1,
   "id": "c77da96f",
   "metadata": {},
   "outputs": [],
   "source": [
    "import numpy as np"
   ]
  },
  {
   "cell_type": "markdown",
   "id": "0b30a18f",
   "metadata": {},
   "source": [
    "#### A NumPy program that creates a vector of length 5 filled with arbitrary integers from 0 to 10"
   ]
  },
  {
   "cell_type": "code",
   "execution_count": 3,
   "id": "af5a4bca",
   "metadata": {},
   "outputs": [
    {
     "name": "stdout",
     "output_type": "stream",
     "text": [
      "[10 10  1  7  2]\n"
     ]
    }
   ],
   "source": [
    "arbitrary_vector = np.random.randint(0, 11, size=5)\n",
    "\n",
    "print(arbitrary_vector)"
   ]
  },
  {
   "cell_type": "markdown",
   "id": "6c2b386a",
   "metadata": {},
   "source": [
    "#### A NumPy program that creates a vector with values ranging from 15 to 55 and prints all values except the first and last."
   ]
  },
  {
   "cell_type": "code",
   "execution_count": 4,
   "id": "0119a8f0",
   "metadata": {},
   "outputs": [
    {
     "name": "stdout",
     "output_type": "stream",
     "text": [
      "[16 17 18 19 20 21 22 23 24 25 26 27 28 29 30 31 32 33 34 35 36 37 38 39\n",
      " 40 41 42 43 44 45 46 47 48 49 50 51 52 53 54]\n"
     ]
    }
   ],
   "source": [
    "# creating a NumPy vector of values ranging from 15 to 55\n",
    "vector = np.arange(15, 56)\n",
    "\n",
    "# printing all values except the first and last\n",
    "print(vector[1:-1])"
   ]
  },
  {
   "cell_type": "markdown",
   "id": "f30e6acb",
   "metadata": {},
   "source": [
    "#### A NumPy program to create a random array with 1000 elements and computes the average, variance, standard deviation of the array elements. "
   ]
  },
  {
   "cell_type": "code",
   "execution_count": 9,
   "id": "68c4c328",
   "metadata": {},
   "outputs": [
    {
     "name": "stdout",
     "output_type": "stream",
     "text": [
      "The Average is 0.5022444629429974\n",
      "The Variance is 0.08475800003188763\n",
      "The Standard deviation is 0.291132272398454\n"
     ]
    }
   ],
   "source": [
    "# create a random NumPy array with 1000 elements\n",
    "random_array = np.random.rand(1000)\n",
    "\n",
    "# compute the average of the array elements\n",
    "Average = np.average(random_array)\n",
    "\n",
    "# compute the variance of the array elements\n",
    "Variance = np.var(random_array)\n",
    "\n",
    "# compute the standard deviation of the array elements\n",
    "Std_dev = np.std(random_array)\n",
    "\n",
    "print(\"The Average is \" + str(Average))\n",
    "print(\"The Variance is \" + str(Variance))\n",
    "print(\"The Standard deviation is \" + str(Std_dev))"
   ]
  },
  {
   "cell_type": "markdown",
   "id": "a41fe330",
   "metadata": {},
   "source": [
    "#### A NumPy program that calculates the cumulative sum of elements along a given axis, sum over rows for each of the 3 columns and sum over columns for each of the 2 rows of a given 3x3 array."
   ]
  },
  {
   "cell_type": "code",
   "execution_count": 10,
   "id": "7613629b",
   "metadata": {},
   "outputs": [
    {
     "name": "stdout",
     "output_type": "stream",
     "text": [
      "Original array:\n",
      " [[2 5 1]\n",
      " [5 3 2]\n",
      " [6 1 8]]\n",
      "Cumulative sum along axis 0:\n",
      " [[ 2  5  1]\n",
      " [ 7  8  3]\n",
      " [13  9 11]]\n",
      "Cumulative sum along axis 1:\n",
      " [[ 2  7  8]\n",
      " [ 5  8 10]\n",
      " [ 6  7 15]]\n",
      "Sum over rows for each of the 3 columns:\n",
      " [13  9 11]\n",
      "Sum over columns for each of the 2 rows:\n",
      " [ 8 10 15]\n"
     ]
    }
   ],
   "source": [
    "# create a 3x3 NumPy array\n",
    "arr = np.array([[2, 5, 1], [5, 3, 2], [6, 1, 8]])\n",
    "\n",
    "# calculate cumulative sum along axis 0 (columns)\n",
    "cumulativeSum_axis0 = np.cumsum(arr, axis=0)\n",
    "\n",
    "# calculate cumulative sum along axis 1 (rows)\n",
    "cumulativeSum_axis1 = np.cumsum(arr, axis=1)\n",
    "\n",
    "# calculate sum over rows for each of the 3 columns\n",
    "sum_rows = np.sum(arr, axis=0)\n",
    "\n",
    "# calculate sum over columns for each of the 2 rows\n",
    "sum_cols = np.sum(arr, axis=1)\n",
    "\n",
    "print(\"Original array:\\n\", arr)\n",
    "print(\"Cumulative sum along axis 0:\\n\", cumulativeSum_axis0)\n",
    "print(\"Cumulative sum along axis 1:\\n\", cumulativeSum_axis1)\n",
    "print(\"Sum over rows for each of the 3 columns:\\n\", sum_rows)\n",
    "print(\"Sum over columns for each of the 2 rows:\\n\", sum_cols)"
   ]
  },
  {
   "cell_type": "markdown",
   "id": "f1747bfc",
   "metadata": {},
   "source": [
    "#### A NumPy program to compute the multiplication of two given matrices."
   ]
  },
  {
   "cell_type": "code",
   "execution_count": 11,
   "id": "887877bb",
   "metadata": {},
   "outputs": [
    {
     "name": "stdout",
     "output_type": "stream",
     "text": [
      "[[1 2]\n",
      " [3 4]]\n"
     ]
    }
   ],
   "source": [
    "# define two matrices\n",
    "Matrix1 = np.array([[1, 0], [0, 1]])\n",
    "Matrix2 = np.array([[1, 2], [3, 4]])\n",
    "\n",
    "# compute the multiplication of the two matrices\n",
    "result = Matrix1 @ Matrix2\n",
    "\n",
    "print(result)"
   ]
  },
  {
   "cell_type": "code",
   "execution_count": null,
   "id": "5dbc2c69",
   "metadata": {},
   "outputs": [],
   "source": []
  }
 ],
 "metadata": {
  "kernelspec": {
   "display_name": "Python 3 (ipykernel)",
   "language": "python",
   "name": "python3"
  },
  "language_info": {
   "codemirror_mode": {
    "name": "ipython",
    "version": 3
   },
   "file_extension": ".py",
   "mimetype": "text/x-python",
   "name": "python",
   "nbconvert_exporter": "python",
   "pygments_lexer": "ipython3",
   "version": "3.9.13"
  }
 },
 "nbformat": 4,
 "nbformat_minor": 5
}
